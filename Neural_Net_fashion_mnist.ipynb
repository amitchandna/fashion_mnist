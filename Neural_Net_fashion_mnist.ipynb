{
 "cells": [
  {
   "cell_type": "markdown",
   "metadata": {},
   "source": [
    "### FASHION \n",
    "* This is a notebook that demonstrates how a neural network is trained to make sense of the fashion_mnist data set. A sort of hello world with some added bells and whistles.\n",
    "* Enjoy the code!"
   ]
  },
  {
   "cell_type": "code",
   "execution_count": 2,
   "metadata": {},
   "outputs": [],
   "source": [
    "#Classic import statements for our code\n",
    "import tensorflow as tf\n",
    "from tensorflow import keras"
   ]
  },
  {
   "cell_type": "code",
   "execution_count": 3,
   "metadata": {},
   "outputs": [
    {
     "data": {
      "text/plain": [
       "'./my_logs/run_2021_08_14-21_22_29'"
      ]
     },
     "execution_count": 3,
     "metadata": {},
     "output_type": "execute_result"
    }
   ],
   "source": [
    "#This is more or less a formality for you (the reader) to be able to run my code.\n",
    "import sys\n",
    "assert sys.version_info >= (3, 5)\n",
    "\n",
    "import sklearn\n",
    "assert sklearn.__version__ >= \"0.20\"\n",
    "\n",
    "import tensorflow as tf\n",
    "assert tf.__version__ >= \"2.0\"\n",
    "\n",
    "\n",
    "import numpy as np\n",
    "import os\n",
    "\n",
    "\n",
    "np.random.seed(42)\n",
    "%matplotlib inline\n",
    "import matplotlib as mpl\n",
    "import matplotlib.pyplot as plt\n",
    "mpl.rc('axes', labelsize=14)\n",
    "mpl.rc('xtick', labelsize=12)\n",
    "mpl.rc('ytick', labelsize=12)\n",
    "\n",
    "#saving figures...\n",
    "PROJECT_ROOT_DIR = \".\"\n",
    "CHAPTER_ID = \"ann\"\n",
    "IMAGES_PATH = os.path.join(PROJECT_ROOT_DIR, \"images\", CHAPTER_ID)\n",
    "os.makedirs(IMAGES_PATH, exist_ok=True)\n",
    "\n",
    "def save_fig(fig_id, tight_layout=True, fig_extension=\"png\", resolution=300):\n",
    "    path = os.path.join(IMAGES_PATH, fig_id + \".\" + fig_extension)\n",
    "    print(\"Saving figure\", fig_id)\n",
    "    if tight_layout:\n",
    "        plt.tight_layout()\n",
    "    plt.savefig(path, format=fig_extension, dpi=resolution)\n",
    "\n",
    "# Ignore useless warnings\n",
    "import warnings\n",
    "warnings.filterwarnings(action=\"ignore\", message=\"^internal gelsd\")\n",
    "\n",
    "#This will setup TensorBoard directories for you\n",
    "\n",
    "root_logdir = os.path.join(os.curdir, \"my_logs\")\n",
    "def get_run_logdir():\n",
    "    import time\n",
    "    run_id = time.strftime(\"run_%Y_%m_%d-%H_%M_%S\")\n",
    "    return os.path.join(root_logdir, run_id)\n",
    "\n",
    "run_logdir = get_run_logdir()\n",
    "run_logdir"
   ]
  },
  {
   "cell_type": "code",
   "execution_count": 4,
   "metadata": {},
   "outputs": [],
   "source": [
    "#This is us getting the data as a download.\n",
    "#Shoutout to Zalando for hooking us up with this data, super cool stuff\n",
    "fashion_mnist = keras.datasets.fashion_mnist\n",
    "(X_train_full, y_train_full), (X_test, y_test) = fashion_mnist.load_data()"
   ]
  },
  {
   "cell_type": "code",
   "execution_count": 5,
   "metadata": {},
   "outputs": [],
   "source": [
    "#This is to split the training data even further and give us a valid set and a training set followed by a scaling down of the pixels\n",
    "#to make this an easier task - We then convert them to floats by dividing by 255. \n",
    "X_valid, X_train = X_train_full[:5000] / 255., X_train_full[5000:] / 255.\n",
    "y_valid, y_train = y_train_full[:5000], y_train_full[5000:]\n",
    "X_test = X_test / 255."
   ]
  },
  {
   "cell_type": "code",
   "execution_count": 6,
   "metadata": {},
   "outputs": [],
   "source": [
    "#This is much easier to make sense of than the integers 0-9 for the classes. Useful for predictions of the data\n",
    "class_names = [\"T-shirt/top\", \"Trouser\", \"Pullover\", \"Dress\", \"Coat\",\n",
    "               \"Sandal\", \"Shirt\", \"Sneaker\", \"Bag\", \"Ankle boot\"]"
   ]
  },
  {
   "cell_type": "code",
   "execution_count": 7,
   "metadata": {},
   "outputs": [],
   "source": [
    "# What you came here for - the neural net in question; it has 4 layers, a flatten layer to smoosh the image down into an easier to use array,\n",
    "# 2 Dense layers that have their perceptrons activated with ReLU activation patterns to help optimize speed of training.\n",
    "# This is finished off with a dense layer of perceptrons that are activated with the Softmax to help normalize the data that is coming out \n",
    "# of this neural net.\n",
    "model = keras.models.Sequential([\n",
    "    keras.layers.Flatten(input_shape=[28, 28]),\n",
    "    keras.layers.Dense(300, activation=\"relu\"),\n",
    "    keras.layers.Dense(100, activation=\"relu\"),\n",
    "    keras.layers.Dense(10, activation=\"softmax\")\n",
    "])"
   ]
  },
  {
   "cell_type": "code",
   "execution_count": 8,
   "metadata": {},
   "outputs": [],
   "source": [
    "# Lets compile the model and get it running!\n",
    "model.compile(loss=\"sparse_categorical_crossentropy\",\n",
    "              optimizer=\"sgd\",\n",
    "              metrics=[\"accuracy\"])"
   ]
  },
  {
   "cell_type": "code",
   "execution_count": 9,
   "metadata": {},
   "outputs": [],
   "source": [
    "#Checkpoint in case we run into a crash or some unforseen scenario\n",
    "checkpoint_cb = keras.callbacks.ModelCheckpoint(\"my_keras_model.h5\", save_best_only=False)\n",
    "# I would rather not have my computer constantly training this model if it doesnt need to... so with this in mind we will allow for an early\n",
    "# stop\n",
    "early_stopping_cb = keras.callbacks.EarlyStopping(patience=10,\n",
    "                                                  restore_best_weights=True)\n",
    "# This will help us go back over the net with some logs later on when we are evaluating the models.\n",
    "tensorboard_cb = keras.callbacks.TensorBoard(run_logdir)"
   ]
  },
  {
   "cell_type": "code",
   "execution_count": 10,
   "metadata": {},
   "outputs": [
    {
     "name": "stdout",
     "output_type": "stream",
     "text": [
      "Epoch 1/100\n",
      "   1/1719 [..............................] - ETA: 0s - loss: 2.4328 - accuracy: 0.1250WARNING:tensorflow:From /Users/amitchandna/opt/anaconda3/lib/python3.7/site-packages/tensorflow/python/ops/summary_ops_v2.py:1277: stop (from tensorflow.python.eager.profiler) is deprecated and will be removed after 2020-07-01.\n",
      "Instructions for updating:\n",
      "use `tf.profiler.experimental.stop` instead.\n",
      "WARNING:tensorflow:Callbacks method `on_train_batch_end` is slow compared to the batch time (batch time: 0.0022s vs `on_train_batch_end` time: 0.0090s). Check your callbacks.\n",
      "1719/1719 [==============================] - 2s 1ms/step - loss: 0.7370 - accuracy: 0.7582 - val_loss: 0.5007 - val_accuracy: 0.8288\n",
      "Epoch 2/100\n",
      "1719/1719 [==============================] - 2s 1ms/step - loss: 0.4888 - accuracy: 0.8317 - val_loss: 0.4501 - val_accuracy: 0.8450\n",
      "Epoch 3/100\n",
      "1719/1719 [==============================] - 2s 1ms/step - loss: 0.4422 - accuracy: 0.8461 - val_loss: 0.4266 - val_accuracy: 0.8580\n",
      "Epoch 4/100\n",
      "1719/1719 [==============================] - 2s 1ms/step - loss: 0.4148 - accuracy: 0.8545 - val_loss: 0.3940 - val_accuracy: 0.8688\n",
      "Epoch 5/100\n",
      "1719/1719 [==============================] - 2s 1ms/step - loss: 0.3947 - accuracy: 0.8613 - val_loss: 0.3792 - val_accuracy: 0.8710\n",
      "Epoch 6/100\n",
      "1719/1719 [==============================] - 2s 1ms/step - loss: 0.3782 - accuracy: 0.8662 - val_loss: 0.3892 - val_accuracy: 0.8616\n",
      "Epoch 7/100\n",
      "1719/1719 [==============================] - 2s 1ms/step - loss: 0.3644 - accuracy: 0.8700 - val_loss: 0.3787 - val_accuracy: 0.8648\n",
      "Epoch 8/100\n",
      "1719/1719 [==============================] - 2s 1ms/step - loss: 0.3523 - accuracy: 0.8757 - val_loss: 0.3580 - val_accuracy: 0.8734\n",
      "Epoch 9/100\n",
      "1719/1719 [==============================] - 3s 2ms/step - loss: 0.3415 - accuracy: 0.8788 - val_loss: 0.3483 - val_accuracy: 0.8784\n",
      "Epoch 10/100\n",
      "1719/1719 [==============================] - 2s 1ms/step - loss: 0.3319 - accuracy: 0.8815 - val_loss: 0.3561 - val_accuracy: 0.8730\n",
      "Epoch 11/100\n",
      "1719/1719 [==============================] - 2s 1ms/step - loss: 0.3233 - accuracy: 0.8834 - val_loss: 0.3433 - val_accuracy: 0.8814\n",
      "Epoch 12/100\n",
      "1719/1719 [==============================] - 2s 1ms/step - loss: 0.3164 - accuracy: 0.8858 - val_loss: 0.3359 - val_accuracy: 0.8802\n",
      "Epoch 13/100\n",
      "1719/1719 [==============================] - 2s 1ms/step - loss: 0.3083 - accuracy: 0.8883 - val_loss: 0.3260 - val_accuracy: 0.8854\n",
      "Epoch 14/100\n",
      "1719/1719 [==============================] - 2s 1ms/step - loss: 0.3012 - accuracy: 0.8914 - val_loss: 0.3367 - val_accuracy: 0.8794\n",
      "Epoch 15/100\n",
      "1719/1719 [==============================] - 2s 1ms/step - loss: 0.2952 - accuracy: 0.8923 - val_loss: 0.3241 - val_accuracy: 0.8838\n",
      "Epoch 16/100\n",
      "1719/1719 [==============================] - 2s 1ms/step - loss: 0.2894 - accuracy: 0.8960 - val_loss: 0.3175 - val_accuracy: 0.8854\n",
      "Epoch 17/100\n",
      "1719/1719 [==============================] - 2s 1ms/step - loss: 0.2834 - accuracy: 0.8973 - val_loss: 0.3221 - val_accuracy: 0.8860\n",
      "Epoch 18/100\n",
      "1719/1719 [==============================] - 2s 1ms/step - loss: 0.2782 - accuracy: 0.8983 - val_loss: 0.3137 - val_accuracy: 0.8894\n",
      "Epoch 19/100\n",
      "1719/1719 [==============================] - 2s 1ms/step - loss: 0.2726 - accuracy: 0.9006 - val_loss: 0.3384 - val_accuracy: 0.8804\n",
      "Epoch 20/100\n",
      "1719/1719 [==============================] - 2s 1ms/step - loss: 0.2668 - accuracy: 0.9033 - val_loss: 0.3090 - val_accuracy: 0.8884\n",
      "Epoch 21/100\n",
      "1719/1719 [==============================] - 2s 1ms/step - loss: 0.2630 - accuracy: 0.9037 - val_loss: 0.3146 - val_accuracy: 0.8880\n",
      "Epoch 22/100\n",
      "1719/1719 [==============================] - 2s 1ms/step - loss: 0.2575 - accuracy: 0.9062 - val_loss: 0.3138 - val_accuracy: 0.8908\n",
      "Epoch 23/100\n",
      "1719/1719 [==============================] - 2s 1ms/step - loss: 0.2539 - accuracy: 0.9081 - val_loss: 0.3103 - val_accuracy: 0.8912\n",
      "Epoch 24/100\n",
      "1719/1719 [==============================] - 2s 1ms/step - loss: 0.2493 - accuracy: 0.9109 - val_loss: 0.3011 - val_accuracy: 0.8924\n",
      "Epoch 25/100\n",
      "1719/1719 [==============================] - 2s 1ms/step - loss: 0.2445 - accuracy: 0.9117 - val_loss: 0.3055 - val_accuracy: 0.8956\n",
      "Epoch 26/100\n",
      "1719/1719 [==============================] - 2s 1ms/step - loss: 0.2407 - accuracy: 0.9132 - val_loss: 0.2994 - val_accuracy: 0.8932\n",
      "Epoch 27/100\n",
      "1719/1719 [==============================] - 2s 1ms/step - loss: 0.2365 - accuracy: 0.9157 - val_loss: 0.3097 - val_accuracy: 0.8898\n",
      "Epoch 28/100\n",
      "1719/1719 [==============================] - 2s 1ms/step - loss: 0.2330 - accuracy: 0.9165 - val_loss: 0.2931 - val_accuracy: 0.8990\n",
      "Epoch 29/100\n",
      "1719/1719 [==============================] - 2s 1ms/step - loss: 0.2291 - accuracy: 0.9167 - val_loss: 0.3046 - val_accuracy: 0.8926\n",
      "Epoch 30/100\n",
      "1719/1719 [==============================] - 2s 1ms/step - loss: 0.2265 - accuracy: 0.9180 - val_loss: 0.2962 - val_accuracy: 0.8958\n",
      "Epoch 31/100\n",
      "1719/1719 [==============================] - 2s 1ms/step - loss: 0.2212 - accuracy: 0.9194 - val_loss: 0.3003 - val_accuracy: 0.8964\n",
      "Epoch 32/100\n",
      "1719/1719 [==============================] - 2s 1ms/step - loss: 0.2184 - accuracy: 0.9206 - val_loss: 0.3117 - val_accuracy: 0.8918\n",
      "Epoch 33/100\n",
      "1719/1719 [==============================] - 2s 1ms/step - loss: 0.2145 - accuracy: 0.9235 - val_loss: 0.3019 - val_accuracy: 0.8926\n",
      "Epoch 34/100\n",
      "1719/1719 [==============================] - 2s 1ms/step - loss: 0.2114 - accuracy: 0.9241 - val_loss: 0.2978 - val_accuracy: 0.8922\n",
      "Epoch 35/100\n",
      "1719/1719 [==============================] - 2s 1ms/step - loss: 0.2068 - accuracy: 0.9261 - val_loss: 0.3415 - val_accuracy: 0.8824\n",
      "Epoch 36/100\n",
      "1719/1719 [==============================] - 2s 1ms/step - loss: 0.2048 - accuracy: 0.9261 - val_loss: 0.2934 - val_accuracy: 0.8968\n",
      "Epoch 37/100\n",
      "1719/1719 [==============================] - 2s 1ms/step - loss: 0.2018 - accuracy: 0.9273 - val_loss: 0.3049 - val_accuracy: 0.8934\n",
      "Epoch 38/100\n",
      "1719/1719 [==============================] - 2s 1ms/step - loss: 0.1982 - accuracy: 0.9289 - val_loss: 0.2939 - val_accuracy: 0.8968\n",
      "313/313 [==============================] - 0s 700us/step - loss: 0.3347 - accuracy: 0.8824\n"
     ]
    }
   ],
   "source": [
    "#Train the model!!\n",
    "history = model.fit(X_train, y_train, epochs=100,\n",
    "                    validation_data=(X_valid, y_valid),\n",
    "                    callbacks=[checkpoint_cb, early_stopping_cb,tensorboard_cb])\n",
    "#Test its accuracy to see if its a good model\n",
    "mse_test = model.evaluate(X_test, y_test)"
   ]
  },
  {
   "cell_type": "code",
   "execution_count": 11,
   "metadata": {},
   "outputs": [
    {
     "name": "stdout",
     "output_type": "stream",
     "text": [
      "Saving figure keras_learning_curves_plot\n"
     ]
    },
    {
     "data": {
      "image/png": "[encoded data removed]",
      "text/plain": [
       "<Figure size 576x360 with 1 Axes>"
      ]
     },
     "metadata": {
      "needs_background": "light"
     },
     "output_type": "display_data"
    }
   ],
   "source": [
    "#This is to show a simple chart that helps us see how the model was training, this is more for my own excitement to see how these ANN truly \n",
    "# get better over many epochs\n",
    "import pandas as pd\n",
    "import matplotlib.pyplot as plt\n",
    "import numpy as np\n",
    "\n",
    "pd.DataFrame(history.history).plot(figsize=(8, 5))\n",
    "plt.grid(True)\n",
    "plt.gca().set_ylim(0, 1)\n",
    "save_fig(\"keras_learning_curves_plot\")\n",
    "plt.show()"
   ]
  }
 ],
 "metadata": {
  "kernelspec": {
   "display_name": "Python 3",
   "language": "python",
   "name": "python3"
  },
  "language_info": {
   "codemirror_mode": {
    "name": "ipython",
    "version": 3
   },
   "file_extension": ".py",
   "mimetype": "text/x-python",
   "name": "python",
   "nbconvert_exporter": "python",
   "pygments_lexer": "ipython3",
   "version": "3.7.6"
  }
 },
 "nbformat": 4,
 "nbformat_minor": 4
}
